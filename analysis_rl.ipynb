{
 "cells": [
  {
   "cell_type": "code",
   "execution_count": null,
   "id": "4e182e35",
   "metadata": {},
   "outputs": [],
   "source": [
    "import cx_Oracle\n",
    "\n",
    "\n",
    "connection = cx_Oracle.connect(\n",
    "    user=\"xx\",\n",
    "    password=\"xx\",\n",
    "    dsn=\"missys-oracle-listener-prod-0:1521/resource_link_read_only\")\n",
    "\n",
    "print(\"Successfully connected to Oracle Database\")\n",
    "\n",
    "cursor = connection.cursor()\n",
    "\n"
   ]
  },
  {
   "cell_type": "code",
   "execution_count": null,
   "id": "0d200367",
   "metadata": {},
<<<<<<< HEAD
   "outputs": [],
=======
   "outputs": [
    {
     "name": "stdout",
     "output_type": "stream",
     "text": [
      "Whoops!\n",
      "Oracle Client library has already been initialized\n"
     ]
    },
    {
     "name": "stderr",
     "output_type": "stream",
     "text": [
      "C:\\Users\\NGUYEN75\\Downloads\\WPy64-31101\\python-3.11.0.amd64\\Lib\\site-packages\\IPython\\core\\interactiveshell.py:3532: UserWarning: To exit: use 'exit', 'quit', or Ctrl-D.\n",
      "  warn(\"To exit: use 'exit', 'quit', or Ctrl-D.\", stacklevel=1)\n"
     ]
    }
   ],
>>>>>>> b1797a5258e5b042cb9a47f802da8e4b5dab7a3c
   "source": [
    "import cx_Oracle\n",
    "import sys\n",
    "import os\n",
    "\n",
    "try:\n",
    "    if sys.platform.startswith(\"darwin\"):\n",
    "        lib_dir = os.path.join(os.environ.get(\"HOME\"), \"Downloads\",\n",
    "                               \"instantclient_19_8\")\n",
    "        cx_Oracle.init_oracle_client(lib_dir=lib_dir)\n",
    "    elif sys.platform.startswith(\"win32\"):\n",
    "        lib_dir=r\"C:\\instantclient-basic-windows.x64-21.7.0.0.0dbru\\instantclient_21_7\"\n",
    "        cx_Oracle.init_oracle_client(lib_dir=lib_dir)\n",
    "except Exception as err:\n",
    "    print(\"Whoops!\")\n",
    "    print(err);\n",
    "    sys.exit(1);"
   ]
  },
  {
   "cell_type": "code",
   "execution_count": null,
   "id": "ff5b2955",
   "metadata": {},
   "outputs": [],
   "source": [
    "cx_Oracle.clientversion()  "
   ]
  },
  {
   "cell_type": "code",
   "execution_count": null,
   "id": "c1da30a4",
   "metadata": {},
   "outputs": [],
   "source": [
    "print(cx_Oracle.version)  "
   ]
  },
  {
   "cell_type": "code",
   "execution_count": null,
   "id": "3e4a2dc6",
   "metadata": {},
   "outputs": [],
   "source": [
    "#number of HR tables\n",
    "numtbl = cursor.execute(\"select count(*) from all_tables where owner = 'HRS' and num_rows > 0\")\n",
    "for row in numtbl: \n",
    "    print(row)"
   ]
  },
  {
   "cell_type": "code",
   "execution_count": null,
   "id": "7ab3ed30",
   "metadata": {},
   "outputs": [],
   "source": [
    "ora = cursor.execute(\"select * from all_tables where owner = 'HRS' and num_rows > 0\")\n",
    "tbllist = []\n",
    "for row in ora: \n",
    "    tbllist.append(row[1])"
   ]
  },
  {
   "cell_type": "code",
   "execution_count": null,
   "id": "4d359bf5",
   "metadata": {},
   "outputs": [],
   "source": [
    "test = []\n",
    "new = []\n",
    "for t in tbllist:\n",
    "    save = cursor.execute(\"SELECT * FROM hrs.{t} FETCH FIRST 1 ROWs ONLY\".format(t=t))\n",
    "    col = [column[0] for column in cursor.description]\n",
    "    new.append(col)\n",
    "    for g in save:\n",
    "        test.append(g)"
   ]
  },
  {
   "cell_type": "code",
   "execution_count": null,
   "id": "6a97707d",
   "metadata": {
    "collapsed": true,
    "jupyter": {
     "outputs_hidden": true
    }
   },
   "outputs": [],
   "source": [
    "test"
   ]
  },
  {
   "cell_type": "code",
   "execution_count": null,
   "id": "7a4d5a35",
   "metadata": {},
   "outputs": [],
   "source": [
    "tbl = pd.DataFrame(tbllist)\n",
    "tbl.to_csv(\"./tbllist.csv\", sep=',',index=False)"
   ]
  },
  {
   "cell_type": "code",
   "execution_count": null,
   "id": "8a09eda6",
   "metadata": {
    "collapsed": true,
    "jupyter": {
     "outputs_hidden": true
    }
   },
   "outputs": [],
   "source": [
    "tbllist"
   ]
  },
  {
   "cell_type": "code",
   "execution_count": null,
   "id": "86e97858",
   "metadata": {},
   "outputs": [],
   "source": [
    "import pandas as pd\n",
    "df = pd.DataFrame(new_list)"
   ]
  },
  {
   "cell_type": "code",
   "execution_count": null,
   "id": "cea21195",
   "metadata": {},
   "outputs": [],
   "source": [
    "df.to_csv(\"./resourcelink.csv\",index=False)"
   ]
  },
  {
   "cell_type": "code",
   "execution_count": null,
   "id": "e3360fbc",
   "metadata": {},
   "outputs": [],
   "source": [
    "new_list = []\n",
    "\n",
    "# Use the enumerate function to loop through the original list\n",
    "# with an index\n",
    "for i, item in enumerate(test):\n",
    "  # Check if the current index is 0 (i.e. the first row)\n",
    "  # or if the current index is even (i.e. every 2 rows)\n",
    "  if i == 0 or i % 1 == 0:\n",
    "    # Check if there are still items in new_items to be added\n",
    "    if new:\n",
    "      new_list.append(new.pop(0))\n",
    "  new_list.append(item)\n"
   ]
  },
  {
   "cell_type": "code",
   "execution_count": null,
   "id": "7cb25808",
   "metadata": {},
   "outputs": [],
   "source": [
    "len(test)"
   ]
  },
  {
   "cell_type": "code",
   "execution_count": null,
   "id": "b10aa495",
   "metadata": {},
   "outputs": [],
   "source": [
    "new_list\n"
   ]
  },
  {
   "cell_type": "code",
   "execution_count": null,
   "id": "57114570",
   "metadata": {},
   "outputs": [],
   "source": [
    "new_list[:15]"
   ]
  },
  {
   "cell_type": "code",
   "execution_count": null,
   "id": "3d247307",
   "metadata": {},
   "outputs": [],
   "source": []
  }
 ],
 "metadata": {
  "kernelspec": {
   "display_name": "Python 3 (Spyder)",
   "language": "python3",
   "name": "python3"
  },
  "language_info": {
   "codemirror_mode": {
    "name": "ipython",
    "version": 3
   },
   "file_extension": ".py",
   "mimetype": "text/x-python",
   "name": "python",
   "nbconvert_exporter": "python",
   "pygments_lexer": "ipython3",
   "version": "3.11.0"
  }
 },
 "nbformat": 4,
 "nbformat_minor": 5
}
