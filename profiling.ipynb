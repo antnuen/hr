{
 "cells": [
  {
   "cell_type": "code",
   "execution_count": null,
   "metadata": {},
   "outputs": [],
   "source": [
    "import cx_Oracle\n",
    "import sys\n",
    "import os\n",
    "\n",
    "try:\n",
    "    if sys.platform.startswith(\"darwin\"):\n",
    "        lib_dir = os.path.join(os.environ.get(\"HOME\"), \"Downloads\",\n",
    "                               \"instantclient_19_8\")\n",
    "        cx_Oracle.init_oracle_client(lib_dir=lib_dir)\n",
    "    elif sys.platform.startswith(\"win32\"):\n",
    "        lib_dir=r\"C:\\instantclient-basic-windows.x64-21.7.0.0.0dbru\\instantclient_21_7\"\n",
    "        cx_Oracle.init_oracle_client(lib_dir=lib_dir)\n",
    "except Exception as err:\n",
    "    print(\"Whoops!\")\n",
    "    print(err);\n",
    "    sys.exit(1);"
   ]
  },
  {
   "cell_type": "code",
   "execution_count": null,
   "metadata": {},
   "outputs": [],
   "source": [
    "import cx_Oracle\n",
    "\n",
    "\n",
    "connection = cx_Oracle.connect(\n",
    "    user=\"xx\",\n",
    "    password=\"xx\",\n",
    "    dsn=\"missys-oracle-listener-prod-0:1521/resource_link_read_only\")\n",
    "\n",
    "print(\"Successfully connected to Oracle Database\")\n",
    "\n",
    "cursor = connection.cursor()\n"
   ]
  },
  {
   "cell_type": "code",
   "execution_count": null,
   "metadata": {},
   "outputs": [],
   "source": [
    "cx_Oracle.clientversion()  "
   ]
  },
  {
   "cell_type": "code",
   "execution_count": null,
   "metadata": {},
   "outputs": [],
   "source": [
    "import pandas as pd"
   ]
  },
  {
   "cell_type": "code",
   "execution_count": null,
   "metadata": {},
   "outputs": [],
   "source": [
    "df = pd.read_excel(\"justhrdata.xlsx\",engine=\"openpyxl\",header=None)\n",
    "tbllist = df[0].values.tolist()"
   ]
  },
  {
   "cell_type": "code",
   "execution_count": null,
   "metadata": {},
   "outputs": [],
   "source": [
    "tbllist"
   ]
  },
  {
   "cell_type": "code",
   "execution_count": null,
   "metadata": {},
   "outputs": [],
   "source": [
    "#count rows\n",
    "results = []\n",
    "for t in tbllist:\n",
    "    test = cursor.execute(\"SELECT count(*) FROM hrs.{t}\".format(t=t))\n",
    "    for g in test:\n",
    "        results.append(g)"
   ]
  },
  {
   "cell_type": "code",
   "execution_count": null,
   "metadata": {},
   "outputs": [],
   "source": [
    "#count rows\n",
    "col = []\n",
    "for t in tbllist:\n",
    "    test = cursor.execute(\"SELECT count(*) FROM information shcem.colums where table_name = 'hrs.{t}'\".format(t=t))\n",
    "    for g in test:\n",
    "        col.append(g)"
   ]
  },
  {
   "cell_type": "code",
   "execution_count": null,
   "metadata": {},
   "outputs": [],
   "source": [
    "#a map linking them?"
   ]
  },
  {
   "cell_type": "code",
   "execution_count": null,
   "metadata": {},
   "outputs": [],
   "source": [
    "results"
   ]
  },
  {
   "cell_type": "code",
   "execution_count": null,
   "metadata": {},
   "outputs": [],
   "source": [
    "tbllist[0]"
   ]
  }
 ],
 "metadata": {
  "kernelspec": {
   "display_name": "Python 3",
   "language": "python",
   "name": "python3"
  },
  "language_info": {
   "codemirror_mode": {
    "name": "ipython",
    "version": 3
   },
   "file_extension": ".py",
   "mimetype": "text/x-python",
   "name": "python",
   "nbconvert_exporter": "python",
   "pygments_lexer": "ipython3",
   "version": "3.11.0"
  },
  "orig_nbformat": 4,
  "vscode": {
   "interpreter": {
    "hash": "d9eb76af4e46de9dee2827b0ac57f7ec1ec86c1d9846f832c64b154f66a3bb80"
   }
  }
 },
 "nbformat": 4,
 "nbformat_minor": 2
}
